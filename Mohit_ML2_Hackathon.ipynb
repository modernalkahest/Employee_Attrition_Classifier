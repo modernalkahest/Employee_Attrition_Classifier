{
 "cells": [
  {
   "cell_type": "code",
   "execution_count": 1,
   "id": "6dc40b7b",
   "metadata": {
    "tags": []
   },
   "outputs": [],
   "source": [
    "# import 'Pandas' \n",
    "import pandas as pd \n",
    "\n",
    "# import 'Numpy' \n",
    "import numpy as np\n",
    "\n",
    "# import subpackage of Matplotlib\n",
    "import matplotlib.pyplot as plt\n",
    "from matplotlib.colors import ListedColormap\n",
    "\n",
    "# import 'Seaborn' \n",
    "import seaborn as sns\n",
    "\n",
    "# to suppress warnings \n",
    "from warnings import filterwarnings\n",
    "filterwarnings('ignore')\n",
    "\n",
    "# display all columns of the dataframe\n",
    "pd.options.display.max_columns = None\n",
    "\n",
    "# display all rows of the dataframe\n",
    "pd.options.display.max_rows = None\n",
    " \n",
    "# to display the float values upto 6 decimal places     \n",
    "pd.options.display.float_format = '{:.6f}'.format\n",
    "\n",
    "# import train-test split \n",
    "from sklearn.model_selection import train_test_split\n",
    "\n",
    "# import various functions from statsmodels\n",
    "import statsmodels\n",
    "import statsmodels.api as sm\n",
    "\n",
    "# import StandardScaler to perform scaling\n",
    "from sklearn.preprocessing import StandardScaler \n",
    "\n",
    "# import various functions from sklearn \n",
    "from sklearn import metrics\n",
    "from sklearn.linear_model import LogisticRegression\n",
    "from sklearn.metrics import classification_report\n",
    "from sklearn.metrics import cohen_kappa_score\n",
    "from sklearn.metrics import confusion_matrix\n",
    "from sklearn.metrics import roc_curve\n",
    "from sklearn.metrics import accuracy_score\n",
    "from sklearn.tree import DecisionTreeClassifier\n",
    "from sklearn.ensemble import RandomForestClassifier\n",
    "from sklearn import tree\n",
    "from sklearn.model_selection import GridSearchCV\n",
    "\n",
    "  \n",
    "# import function to perform feature selection\n",
    "from sklearn.feature_selection import RFE"
   ]
  },
  {
   "cell_type": "code",
   "execution_count": 2,
   "id": "211ea79f",
   "metadata": {
    "tags": []
   },
   "outputs": [],
   "source": [
    "# set the plot size using 'rcParams'\n",
    "# once the plot size is set using 'rcParams', it sets the size of all the forthcoming plots in the file\n",
    "# pass width and height in inches to 'figure.figsize' \n",
    "plt.rcParams['figure.figsize'] = [15,8]"
   ]
  },
  {
   "cell_type": "code",
   "execution_count": 3,
   "id": "09bacafe",
   "metadata": {
    "tags": []
   },
   "outputs": [
    {
     "data": {
      "text/html": [
       "<div>\n",
       "<style scoped>\n",
       "    .dataframe tbody tr th:only-of-type {\n",
       "        vertical-align: middle;\n",
       "    }\n",
       "\n",
       "    .dataframe tbody tr th {\n",
       "        vertical-align: top;\n",
       "    }\n",
       "\n",
       "    .dataframe thead th {\n",
       "        text-align: right;\n",
       "    }\n",
       "</style>\n",
       "<table border=\"1\" class=\"dataframe\">\n",
       "  <thead>\n",
       "    <tr style=\"text-align: right;\">\n",
       "      <th></th>\n",
       "      <th>EmployeeID</th>\n",
       "      <th>Attrition</th>\n",
       "      <th>Age</th>\n",
       "      <th>TravelProfile</th>\n",
       "      <th>Department</th>\n",
       "      <th>HomeToWork</th>\n",
       "      <th>EducationField</th>\n",
       "      <th>Gender</th>\n",
       "      <th>HourlnWeek</th>\n",
       "      <th>Involvement</th>\n",
       "      <th>WorkLifeBalance</th>\n",
       "      <th>Designation</th>\n",
       "      <th>JobSatisfaction</th>\n",
       "      <th>ESOPs</th>\n",
       "      <th>NumCompaniesWorked</th>\n",
       "      <th>OverTime</th>\n",
       "      <th>SalaryHikelastYear</th>\n",
       "      <th>WorkExperience</th>\n",
       "      <th>LastPromotion</th>\n",
       "      <th>CurrentProfile</th>\n",
       "      <th>MaritalStatus</th>\n",
       "      <th>MonthlyIncome</th>\n",
       "    </tr>\n",
       "  </thead>\n",
       "  <tbody>\n",
       "    <tr>\n",
       "      <th>0</th>\n",
       "      <td>5110001.000000</td>\n",
       "      <td>0.000000</td>\n",
       "      <td>35.000000</td>\n",
       "      <td>Rarely</td>\n",
       "      <td>Analytics</td>\n",
       "      <td>5.000000</td>\n",
       "      <td>CA</td>\n",
       "      <td>Male</td>\n",
       "      <td>69.000000</td>\n",
       "      <td>1.000000</td>\n",
       "      <td>1.000000</td>\n",
       "      <td>Executive</td>\n",
       "      <td>1.000000</td>\n",
       "      <td>1.000000</td>\n",
       "      <td>1.000000</td>\n",
       "      <td>1.000000</td>\n",
       "      <td>20.000000</td>\n",
       "      <td>7.000000</td>\n",
       "      <td>2.000000</td>\n",
       "      <td>NaN</td>\n",
       "      <td>M</td>\n",
       "      <td>18932.000000</td>\n",
       "    </tr>\n",
       "    <tr>\n",
       "      <th>1</th>\n",
       "      <td>5110002.000000</td>\n",
       "      <td>1.000000</td>\n",
       "      <td>32.000000</td>\n",
       "      <td>Yes</td>\n",
       "      <td>Sales</td>\n",
       "      <td>5.000000</td>\n",
       "      <td>Statistics</td>\n",
       "      <td>Female</td>\n",
       "      <td>62.000000</td>\n",
       "      <td>4.000000</td>\n",
       "      <td>3.000000</td>\n",
       "      <td>Executive</td>\n",
       "      <td>2.000000</td>\n",
       "      <td>0.000000</td>\n",
       "      <td>8.000000</td>\n",
       "      <td>0.000000</td>\n",
       "      <td>20.000000</td>\n",
       "      <td>4.000000</td>\n",
       "      <td>1.000000</td>\n",
       "      <td>NaN</td>\n",
       "      <td>Single</td>\n",
       "      <td>18785.000000</td>\n",
       "    </tr>\n",
       "    <tr>\n",
       "      <th>2</th>\n",
       "      <td>5110003.000000</td>\n",
       "      <td>0.000000</td>\n",
       "      <td>31.000000</td>\n",
       "      <td>Rarely</td>\n",
       "      <td>Analytics</td>\n",
       "      <td>5.000000</td>\n",
       "      <td>Statistics</td>\n",
       "      <td>F</td>\n",
       "      <td>45.000000</td>\n",
       "      <td>5.000000</td>\n",
       "      <td>3.000000</td>\n",
       "      <td>Manager</td>\n",
       "      <td>2.000000</td>\n",
       "      <td>1.000000</td>\n",
       "      <td>3.000000</td>\n",
       "      <td>0.000000</td>\n",
       "      <td>26.000000</td>\n",
       "      <td>12.000000</td>\n",
       "      <td>1.000000</td>\n",
       "      <td>3.000000</td>\n",
       "      <td>Single</td>\n",
       "      <td>22091.000000</td>\n",
       "    </tr>\n",
       "    <tr>\n",
       "      <th>3</th>\n",
       "      <td>5110004.000000</td>\n",
       "      <td>0.000000</td>\n",
       "      <td>34.000000</td>\n",
       "      <td>Yes</td>\n",
       "      <td>Sales</td>\n",
       "      <td>10.000000</td>\n",
       "      <td>Statistics</td>\n",
       "      <td>Female</td>\n",
       "      <td>32.000000</td>\n",
       "      <td>3.000000</td>\n",
       "      <td>2.000000</td>\n",
       "      <td>Manager</td>\n",
       "      <td>4.000000</td>\n",
       "      <td>1.000000</td>\n",
       "      <td>1.000000</td>\n",
       "      <td>0.000000</td>\n",
       "      <td>23.000000</td>\n",
       "      <td>5.000000</td>\n",
       "      <td>1.000000</td>\n",
       "      <td>3.000000</td>\n",
       "      <td>Divorsed</td>\n",
       "      <td>20302.000000</td>\n",
       "    </tr>\n",
       "    <tr>\n",
       "      <th>4</th>\n",
       "      <td>5110005.000000</td>\n",
       "      <td>0.000000</td>\n",
       "      <td>37.000000</td>\n",
       "      <td>No</td>\n",
       "      <td>Analytics</td>\n",
       "      <td>27.000000</td>\n",
       "      <td>Statistics</td>\n",
       "      <td>Female</td>\n",
       "      <td>49.000000</td>\n",
       "      <td>3.000000</td>\n",
       "      <td>4.000000</td>\n",
       "      <td>Manager</td>\n",
       "      <td>4.000000</td>\n",
       "      <td>1.000000</td>\n",
       "      <td>8.000000</td>\n",
       "      <td>0.000000</td>\n",
       "      <td>21.000000</td>\n",
       "      <td>12.000000</td>\n",
       "      <td>1.000000</td>\n",
       "      <td>9.000000</td>\n",
       "      <td>Divorsed</td>\n",
       "      <td>21674.000000</td>\n",
       "    </tr>\n",
       "  </tbody>\n",
       "</table>\n",
       "</div>"
      ],
      "text/plain": [
       "      EmployeeID  Attrition       Age TravelProfile Department  HomeToWork  \\\n",
       "0 5110001.000000   0.000000 35.000000        Rarely  Analytics    5.000000   \n",
       "1 5110002.000000   1.000000 32.000000           Yes      Sales    5.000000   \n",
       "2 5110003.000000   0.000000 31.000000        Rarely  Analytics    5.000000   \n",
       "3 5110004.000000   0.000000 34.000000           Yes      Sales   10.000000   \n",
       "4 5110005.000000   0.000000 37.000000            No  Analytics   27.000000   \n",
       "\n",
       "  EducationField  Gender  HourlnWeek  Involvement  WorkLifeBalance  \\\n",
       "0             CA    Male   69.000000     1.000000         1.000000   \n",
       "1     Statistics  Female   62.000000     4.000000         3.000000   \n",
       "2     Statistics       F   45.000000     5.000000         3.000000   \n",
       "3     Statistics  Female   32.000000     3.000000         2.000000   \n",
       "4     Statistics  Female   49.000000     3.000000         4.000000   \n",
       "\n",
       "  Designation  JobSatisfaction    ESOPs  NumCompaniesWorked  OverTime  \\\n",
       "0   Executive         1.000000 1.000000            1.000000  1.000000   \n",
       "1   Executive         2.000000 0.000000            8.000000  0.000000   \n",
       "2     Manager         2.000000 1.000000            3.000000  0.000000   \n",
       "3     Manager         4.000000 1.000000            1.000000  0.000000   \n",
       "4     Manager         4.000000 1.000000            8.000000  0.000000   \n",
       "\n",
       "   SalaryHikelastYear  WorkExperience  LastPromotion  CurrentProfile  \\\n",
       "0           20.000000        7.000000       2.000000             NaN   \n",
       "1           20.000000        4.000000       1.000000             NaN   \n",
       "2           26.000000       12.000000       1.000000        3.000000   \n",
       "3           23.000000        5.000000       1.000000        3.000000   \n",
       "4           21.000000       12.000000       1.000000        9.000000   \n",
       "\n",
       "  MaritalStatus  MonthlyIncome  \n",
       "0             M   18932.000000  \n",
       "1        Single   18785.000000  \n",
       "2        Single   22091.000000  \n",
       "3      Divorsed   20302.000000  \n",
       "4      Divorsed   21674.000000  "
      ]
     },
     "execution_count": 3,
     "metadata": {},
     "output_type": "execute_result"
    }
   ],
   "source": [
    "# load the csv file\n",
    "# store the data in 'df_admissions'\n",
    "df = pd.read_csv('Train_Dataset_(1).csv')\n",
    "\n",
    "# display first five observations using head()\n",
    "df.head()"
   ]
  },
  {
   "cell_type": "code",
   "execution_count": 4,
   "id": "ea907519",
   "metadata": {
    "tags": []
   },
   "outputs": [
    {
     "data": {
      "text/plain": [
       "(7810, 22)"
      ]
     },
     "execution_count": 4,
     "metadata": {},
     "output_type": "execute_result"
    }
   ],
   "source": [
    "# use 'shape' to check the dimension of data\n",
    "df.shape"
   ]
  },
  {
   "cell_type": "code",
   "execution_count": 7,
   "id": "61473b42",
   "metadata": {
    "tags": []
   },
   "outputs": [
    {
     "data": {
      "text/plain": [
       "EmployeeID            float64\n",
       "Attrition             float64\n",
       "Age                   float64\n",
       "TravelProfile          object\n",
       "Department             object\n",
       "HomeToWork            float64\n",
       "EducationField         object\n",
       "Gender                 object\n",
       "HourlnWeek            float64\n",
       "Involvement           float64\n",
       "WorkLifeBalance       float64\n",
       "Designation            object\n",
       "JobSatisfaction       float64\n",
       "ESOPs                 float64\n",
       "NumCompaniesWorked    float64\n",
       "OverTime              float64\n",
       "SalaryHikelastYear    float64\n",
       "WorkExperience        float64\n",
       "LastPromotion         float64\n",
       "CurrentProfile        float64\n",
       "MaritalStatus          object\n",
       "MonthlyIncome         float64\n",
       "dtype: object"
      ]
     },
     "execution_count": 7,
     "metadata": {},
     "output_type": "execute_result"
    }
   ],
   "source": [
    "# use 'dtypes' to check the data type of a variable\n",
    "df.dtypes"
   ]
  },
  {
   "cell_type": "code",
   "execution_count": 8,
   "id": "484e5dd7",
   "metadata": {
    "tags": []
   },
   "outputs": [
    {
     "data": {
      "text/html": [
       "<div>\n",
       "<style scoped>\n",
       "    .dataframe tbody tr th:only-of-type {\n",
       "        vertical-align: middle;\n",
       "    }\n",
       "\n",
       "    .dataframe tbody tr th {\n",
       "        vertical-align: top;\n",
       "    }\n",
       "\n",
       "    .dataframe thead th {\n",
       "        text-align: right;\n",
       "    }\n",
       "</style>\n",
       "<table border=\"1\" class=\"dataframe\">\n",
       "  <thead>\n",
       "    <tr style=\"text-align: right;\">\n",
       "      <th></th>\n",
       "      <th>Total</th>\n",
       "      <th>Percentage of Missing Values</th>\n",
       "    </tr>\n",
       "  </thead>\n",
       "  <tbody>\n",
       "    <tr>\n",
       "      <th>Age</th>\n",
       "      <td>2946</td>\n",
       "      <td>37.720871</td>\n",
       "    </tr>\n",
       "    <tr>\n",
       "      <th>CurrentProfile</th>\n",
       "      <td>2941</td>\n",
       "      <td>37.656850</td>\n",
       "    </tr>\n",
       "    <tr>\n",
       "      <th>HourlnWeek</th>\n",
       "      <td>2917</td>\n",
       "      <td>37.349552</td>\n",
       "    </tr>\n",
       "    <tr>\n",
       "      <th>HomeToWork</th>\n",
       "      <td>2885</td>\n",
       "      <td>36.939821</td>\n",
       "    </tr>\n",
       "    <tr>\n",
       "      <th>WorkExperience</th>\n",
       "      <td>2817</td>\n",
       "      <td>36.069142</td>\n",
       "    </tr>\n",
       "    <tr>\n",
       "      <th>SalaryHikelastYear</th>\n",
       "      <td>2799</td>\n",
       "      <td>35.838668</td>\n",
       "    </tr>\n",
       "    <tr>\n",
       "      <th>Department</th>\n",
       "      <td>2754</td>\n",
       "      <td>35.262484</td>\n",
       "    </tr>\n",
       "    <tr>\n",
       "      <th>MonthlyIncome</th>\n",
       "      <td>2723</td>\n",
       "      <td>34.865557</td>\n",
       "    </tr>\n",
       "    <tr>\n",
       "      <th>LastPromotion</th>\n",
       "      <td>2700</td>\n",
       "      <td>34.571063</td>\n",
       "    </tr>\n",
       "    <tr>\n",
       "      <th>Gender</th>\n",
       "      <td>2676</td>\n",
       "      <td>34.263764</td>\n",
       "    </tr>\n",
       "    <tr>\n",
       "      <th>Designation</th>\n",
       "      <td>2668</td>\n",
       "      <td>34.161332</td>\n",
       "    </tr>\n",
       "    <tr>\n",
       "      <th>Attrition</th>\n",
       "      <td>2630</td>\n",
       "      <td>33.674776</td>\n",
       "    </tr>\n",
       "    <tr>\n",
       "      <th>JobSatisfaction</th>\n",
       "      <td>2630</td>\n",
       "      <td>33.674776</td>\n",
       "    </tr>\n",
       "    <tr>\n",
       "      <th>ESOPs</th>\n",
       "      <td>2630</td>\n",
       "      <td>33.674776</td>\n",
       "    </tr>\n",
       "    <tr>\n",
       "      <th>NumCompaniesWorked</th>\n",
       "      <td>2630</td>\n",
       "      <td>33.674776</td>\n",
       "    </tr>\n",
       "    <tr>\n",
       "      <th>OverTime</th>\n",
       "      <td>2630</td>\n",
       "      <td>33.674776</td>\n",
       "    </tr>\n",
       "    <tr>\n",
       "      <th>WorkLifeBalance</th>\n",
       "      <td>2630</td>\n",
       "      <td>33.674776</td>\n",
       "    </tr>\n",
       "    <tr>\n",
       "      <th>Involvement</th>\n",
       "      <td>2630</td>\n",
       "      <td>33.674776</td>\n",
       "    </tr>\n",
       "    <tr>\n",
       "      <th>EducationField</th>\n",
       "      <td>2630</td>\n",
       "      <td>33.674776</td>\n",
       "    </tr>\n",
       "    <tr>\n",
       "      <th>TravelProfile</th>\n",
       "      <td>2630</td>\n",
       "      <td>33.674776</td>\n",
       "    </tr>\n",
       "    <tr>\n",
       "      <th>MaritalStatus</th>\n",
       "      <td>2630</td>\n",
       "      <td>33.674776</td>\n",
       "    </tr>\n",
       "    <tr>\n",
       "      <th>EmployeeID</th>\n",
       "      <td>2630</td>\n",
       "      <td>33.674776</td>\n",
       "    </tr>\n",
       "  </tbody>\n",
       "</table>\n",
       "</div>"
      ],
      "text/plain": [
       "                    Total  Percentage of Missing Values\n",
       "Age                  2946                     37.720871\n",
       "CurrentProfile       2941                     37.656850\n",
       "HourlnWeek           2917                     37.349552\n",
       "HomeToWork           2885                     36.939821\n",
       "WorkExperience       2817                     36.069142\n",
       "SalaryHikelastYear   2799                     35.838668\n",
       "Department           2754                     35.262484\n",
       "MonthlyIncome        2723                     34.865557\n",
       "LastPromotion        2700                     34.571063\n",
       "Gender               2676                     34.263764\n",
       "Designation          2668                     34.161332\n",
       "Attrition            2630                     33.674776\n",
       "JobSatisfaction      2630                     33.674776\n",
       "ESOPs                2630                     33.674776\n",
       "NumCompaniesWorked   2630                     33.674776\n",
       "OverTime             2630                     33.674776\n",
       "WorkLifeBalance      2630                     33.674776\n",
       "Involvement          2630                     33.674776\n",
       "EducationField       2630                     33.674776\n",
       "TravelProfile        2630                     33.674776\n",
       "MaritalStatus        2630                     33.674776\n",
       "EmployeeID           2630                     33.674776"
      ]
     },
     "execution_count": 8,
     "metadata": {},
     "output_type": "execute_result"
    }
   ],
   "source": [
    "# sort the variables on the basis of total null values in the variable\n",
    "# 'isnull().sum()' returns the number of missing values in each variable\n",
    "# 'ascending = False' sorts values in the descending order\n",
    "# the variable with highest number of missing values will appear first\n",
    "Total = df.isnull().sum().sort_values(ascending=False)          \n",
    "\n",
    "# calculate percentage of missing values\n",
    "# 'ascending = False' sorts values in the descending order\n",
    "# the variable with highest percentage of missing values will appear first\n",
    "Percent = (df.isnull().sum()*100/df.isnull().count()).sort_values(ascending=False)   \n",
    "\n",
    "# concat the 'Total' and 'Percent' columns using 'concat' function\n",
    "# pass a list of column names in parameter 'keys' \n",
    "# 'axis = 1' concats along the columns\n",
    "missing_data = pd.concat([Total, Percent], axis = 1, keys = ['Total', 'Percentage of Missing Values'])    \n",
    "missing_data"
   ]
  },
  {
   "cell_type": "code",
   "execution_count": 9,
   "id": "f0502037-6ae1-4622-8d17-c4669daa413e",
   "metadata": {
    "tags": []
   },
   "outputs": [
    {
     "data": {
      "text/plain": [
       "EmployeeID            float64\n",
       "Attrition             float64\n",
       "Age                   float64\n",
       "TravelProfile          object\n",
       "Department             object\n",
       "HomeToWork            float64\n",
       "EducationField         object\n",
       "Gender                 object\n",
       "HourlnWeek            float64\n",
       "Involvement           float64\n",
       "WorkLifeBalance       float64\n",
       "Designation            object\n",
       "JobSatisfaction       float64\n",
       "ESOPs                 float64\n",
       "NumCompaniesWorked    float64\n",
       "OverTime              float64\n",
       "SalaryHikelastYear    float64\n",
       "WorkExperience        float64\n",
       "LastPromotion         float64\n",
       "CurrentProfile        float64\n",
       "MaritalStatus          object\n",
       "MonthlyIncome         float64\n",
       "dtype: object"
      ]
     },
     "execution_count": 9,
     "metadata": {},
     "output_type": "execute_result"
    }
   ],
   "source": [
    "df.dtypes"
   ]
  },
  {
   "cell_type": "code",
   "execution_count": 10,
   "id": "903ee1bf",
   "metadata": {
    "tags": []
   },
   "outputs": [],
   "source": [
    "df1_num = df.select_dtypes(include = [np.number])\n",
    "df[df1_num.columns] = df1_num.fillna(df1_num.mean())"
   ]
  },
  {
   "cell_type": "code",
   "execution_count": 11,
   "id": "ba0433a4",
   "metadata": {
    "tags": []
   },
   "outputs": [
    {
     "data": {
      "text/plain": [
       "EmployeeID               0\n",
       "Attrition                0\n",
       "Age                      0\n",
       "TravelProfile         2630\n",
       "Department            2754\n",
       "HomeToWork               0\n",
       "EducationField        2630\n",
       "Gender                2676\n",
       "HourlnWeek               0\n",
       "Involvement              0\n",
       "WorkLifeBalance          0\n",
       "Designation           2668\n",
       "JobSatisfaction          0\n",
       "ESOPs                    0\n",
       "NumCompaniesWorked       0\n",
       "OverTime                 0\n",
       "SalaryHikelastYear       0\n",
       "WorkExperience           0\n",
       "LastPromotion            0\n",
       "CurrentProfile           0\n",
       "MaritalStatus         2630\n",
       "MonthlyIncome            0\n",
       "dtype: int64"
      ]
     },
     "execution_count": 11,
     "metadata": {},
     "output_type": "execute_result"
    }
   ],
   "source": [
    "df.isnull().sum()"
   ]
  },
  {
   "cell_type": "code",
   "execution_count": 12,
   "id": "ebc5d55a",
   "metadata": {
    "tags": []
   },
   "outputs": [],
   "source": [
    "for column in df.select_dtypes(include='object'):\n",
    "    df[column].fillna(df[column].mode()[0], inplace=True)"
   ]
  },
  {
   "cell_type": "code",
   "execution_count": 13,
   "id": "20b93f3c",
   "metadata": {
    "tags": []
   },
   "outputs": [
    {
     "data": {
      "text/plain": [
       "EmployeeID            0\n",
       "Attrition             0\n",
       "MaritalStatus         0\n",
       "CurrentProfile        0\n",
       "LastPromotion         0\n",
       "WorkExperience        0\n",
       "SalaryHikelastYear    0\n",
       "OverTime              0\n",
       "NumCompaniesWorked    0\n",
       "ESOPs                 0\n",
       "JobSatisfaction       0\n",
       "Designation           0\n",
       "WorkLifeBalance       0\n",
       "Involvement           0\n",
       "HourlnWeek            0\n",
       "Gender                0\n",
       "EducationField        0\n",
       "HomeToWork            0\n",
       "Department            0\n",
       "TravelProfile         0\n",
       "Age                   0\n",
       "MonthlyIncome         0\n",
       "dtype: int64"
      ]
     },
     "execution_count": 13,
     "metadata": {},
     "output_type": "execute_result"
    }
   ],
   "source": [
    "Total = df.isnull().sum().sort_values(ascending=False)\n",
    "Total"
   ]
  },
  {
   "cell_type": "code",
   "execution_count": 14,
   "id": "fa28df7a-8ef9-4197-a25f-35f8e1ddb49c",
   "metadata": {
    "tags": []
   },
   "outputs": [
    {
     "data": {
      "text/plain": [
       "(7810, 22)"
      ]
     },
     "execution_count": 14,
     "metadata": {},
     "output_type": "execute_result"
    }
   ],
   "source": [
    "df.shape"
   ]
  },
  {
   "cell_type": "code",
   "execution_count": 15,
   "id": "5c52bd02",
   "metadata": {
    "tags": []
   },
   "outputs": [],
   "source": [
    "# use astype() to change the data type\n",
    "\n",
    "df['EmployeeID'] = df['EmployeeID'].astype('int64')\n",
    "df['Attrition'] = df['Attrition'].astype('int64')\n"
   ]
  },
  {
   "cell_type": "code",
   "execution_count": 16,
   "id": "1380117a",
   "metadata": {
    "tags": []
   },
   "outputs": [],
   "source": [
    "# store the target variable 'Chance of Admit' in a dataframe 'df_target'\n",
    "df_target = df['Attrition']\n",
    "\n",
    "# store all the independent variables in a dataframe 'df_feature' \n",
    "# drop the column 'Chance of Admit' using drop()\n",
    "# 'axis = 1' drops the specified column\n",
    "df_feature = df.drop('Attrition', axis = 1)"
   ]
  },
  {
   "cell_type": "code",
   "execution_count": 17,
   "id": "d58c5bf0",
   "metadata": {
    "tags": []
   },
   "outputs": [
    {
     "data": {
      "text/plain": [
       "Index(['EmployeeID', 'Age', 'HomeToWork', 'HourlnWeek', 'Involvement',\n",
       "       'WorkLifeBalance', 'JobSatisfaction', 'ESOPs', 'NumCompaniesWorked',\n",
       "       'OverTime', 'SalaryHikelastYear', 'WorkExperience', 'LastPromotion',\n",
       "       'CurrentProfile', 'MonthlyIncome'],\n",
       "      dtype='object')"
      ]
     },
     "execution_count": 17,
     "metadata": {},
     "output_type": "execute_result"
    }
   ],
   "source": [
    "# filter the numerical features in the dataset\n",
    "# 'select_dtypes' is used to select the variables with given data type\n",
    "# 'include = [np.number]' will include all the numerical variables\n",
    "df_num = df_feature.select_dtypes(include = [np.number])\n",
    "\n",
    "# display numerical features\n",
    "df_num.columns"
   ]
  },
  {
   "cell_type": "code",
   "execution_count": 18,
   "id": "c74f104c",
   "metadata": {
    "tags": []
   },
   "outputs": [
    {
     "data": {
      "text/plain": [
       "Index(['TravelProfile', 'Department', 'EducationField', 'Gender',\n",
       "       'Designation', 'MaritalStatus'],\n",
       "      dtype='object')"
      ]
     },
     "execution_count": 18,
     "metadata": {},
     "output_type": "execute_result"
    }
   ],
   "source": [
    "# filter the categorical features in the dataset\n",
    "# 'select_dtypes' is used to select the variables with given data type\n",
    "# 'include = [np.object]' will include all the categorical variables\n",
    "df_cat = df_feature.select_dtypes(include = [object])\n",
    "\n",
    "# display categorical features\n",
    "df_cat.columns"
   ]
  },
  {
   "cell_type": "code",
   "execution_count": 19,
   "id": "c63f10ab-13ce-4cf7-b5ea-4c132a3c4797",
   "metadata": {
    "tags": []
   },
   "outputs": [],
   "source": [
    "df['Gender'].replace({'F':'Female'},inplace=True)\n",
    "df['MaritalStatus'].replace({'M':'Married'},inplace=True)"
   ]
  },
  {
   "cell_type": "code",
   "execution_count": 20,
   "id": "e4d235be-02a1-47c7-8156-402767b0ed62",
   "metadata": {
    "tags": []
   },
   "outputs": [],
   "source": [
    "for column in df.select_dtypes(include=object).columns:\n",
    "    mapping = df[column].value_counts(normalize=True)\n",
    "    df[column].replace(mapping.to_dict(),inplace=True)"
   ]
  },
  {
   "cell_type": "code",
   "execution_count": 21,
   "id": "ca2a5092-a859-415e-aef7-317575a800ea",
   "metadata": {
    "tags": []
   },
   "outputs": [
    {
     "data": {
      "text/plain": [
       "EmployeeID              int64\n",
       "Attrition               int64\n",
       "Age                   float64\n",
       "TravelProfile         float64\n",
       "Department            float64\n",
       "HomeToWork            float64\n",
       "EducationField        float64\n",
       "Gender                float64\n",
       "HourlnWeek            float64\n",
       "Involvement           float64\n",
       "WorkLifeBalance       float64\n",
       "Designation           float64\n",
       "JobSatisfaction       float64\n",
       "ESOPs                 float64\n",
       "NumCompaniesWorked    float64\n",
       "OverTime              float64\n",
       "SalaryHikelastYear    float64\n",
       "WorkExperience        float64\n",
       "LastPromotion         float64\n",
       "CurrentProfile        float64\n",
       "MaritalStatus         float64\n",
       "MonthlyIncome         float64\n",
       "dtype: object"
      ]
     },
     "execution_count": 21,
     "metadata": {},
     "output_type": "execute_result"
    }
   ],
   "source": [
    "df.dtypes"
   ]
  },
  {
   "cell_type": "code",
   "execution_count": 22,
   "id": "5dc8a35a",
   "metadata": {
    "tags": []
   },
   "outputs": [
    {
     "data": {
      "text/html": [
       "<div>\n",
       "<style scoped>\n",
       "    .dataframe tbody tr th:only-of-type {\n",
       "        vertical-align: middle;\n",
       "    }\n",
       "\n",
       "    .dataframe tbody tr th {\n",
       "        vertical-align: top;\n",
       "    }\n",
       "\n",
       "    .dataframe thead th {\n",
       "        text-align: right;\n",
       "    }\n",
       "</style>\n",
       "<table border=\"1\" class=\"dataframe\">\n",
       "  <thead>\n",
       "    <tr style=\"text-align: right;\">\n",
       "      <th></th>\n",
       "      <th>EmployeeID</th>\n",
       "      <th>Age</th>\n",
       "      <th>TravelProfile</th>\n",
       "      <th>Department</th>\n",
       "      <th>HomeToWork</th>\n",
       "      <th>EducationField</th>\n",
       "      <th>Gender</th>\n",
       "      <th>HourlnWeek</th>\n",
       "      <th>Involvement</th>\n",
       "      <th>WorkLifeBalance</th>\n",
       "      <th>Designation</th>\n",
       "      <th>JobSatisfaction</th>\n",
       "      <th>ESOPs</th>\n",
       "      <th>NumCompaniesWorked</th>\n",
       "      <th>OverTime</th>\n",
       "      <th>SalaryHikelastYear</th>\n",
       "      <th>WorkExperience</th>\n",
       "      <th>LastPromotion</th>\n",
       "      <th>CurrentProfile</th>\n",
       "      <th>MaritalStatus</th>\n",
       "      <th>MonthlyIncome</th>\n",
       "    </tr>\n",
       "  </thead>\n",
       "  <tbody>\n",
       "    <tr>\n",
       "      <th>0</th>\n",
       "      <td>5110001</td>\n",
       "      <td>35.000000</td>\n",
       "      <td>0.802433</td>\n",
       "      <td>0.764789</td>\n",
       "      <td>5.000000</td>\n",
       "      <td>0.199744</td>\n",
       "      <td>0.738796</td>\n",
       "      <td>69.000000</td>\n",
       "      <td>1.000000</td>\n",
       "      <td>1.000000</td>\n",
       "      <td>0.606914</td>\n",
       "      <td>1.000000</td>\n",
       "      <td>1.000000</td>\n",
       "      <td>1.000000</td>\n",
       "      <td>1.000000</td>\n",
       "      <td>20.000000</td>\n",
       "      <td>7.000000</td>\n",
       "      <td>2.000000</td>\n",
       "      <td>4.385295</td>\n",
       "      <td>0.305762</td>\n",
       "      <td>18932.000000</td>\n",
       "    </tr>\n",
       "    <tr>\n",
       "      <th>1</th>\n",
       "      <td>5110002</td>\n",
       "      <td>32.000000</td>\n",
       "      <td>0.134571</td>\n",
       "      <td>0.206786</td>\n",
       "      <td>5.000000</td>\n",
       "      <td>0.609347</td>\n",
       "      <td>0.261204</td>\n",
       "      <td>62.000000</td>\n",
       "      <td>4.000000</td>\n",
       "      <td>3.000000</td>\n",
       "      <td>0.606914</td>\n",
       "      <td>2.000000</td>\n",
       "      <td>0.000000</td>\n",
       "      <td>8.000000</td>\n",
       "      <td>0.000000</td>\n",
       "      <td>20.000000</td>\n",
       "      <td>4.000000</td>\n",
       "      <td>1.000000</td>\n",
       "      <td>4.385295</td>\n",
       "      <td>0.564149</td>\n",
       "      <td>18785.000000</td>\n",
       "    </tr>\n",
       "    <tr>\n",
       "      <th>2</th>\n",
       "      <td>5110003</td>\n",
       "      <td>31.000000</td>\n",
       "      <td>0.802433</td>\n",
       "      <td>0.764789</td>\n",
       "      <td>5.000000</td>\n",
       "      <td>0.609347</td>\n",
       "      <td>0.261204</td>\n",
       "      <td>45.000000</td>\n",
       "      <td>5.000000</td>\n",
       "      <td>3.000000</td>\n",
       "      <td>0.224840</td>\n",
       "      <td>2.000000</td>\n",
       "      <td>1.000000</td>\n",
       "      <td>3.000000</td>\n",
       "      <td>0.000000</td>\n",
       "      <td>26.000000</td>\n",
       "      <td>12.000000</td>\n",
       "      <td>1.000000</td>\n",
       "      <td>3.000000</td>\n",
       "      <td>0.564149</td>\n",
       "      <td>22091.000000</td>\n",
       "    </tr>\n",
       "    <tr>\n",
       "      <th>3</th>\n",
       "      <td>5110004</td>\n",
       "      <td>34.000000</td>\n",
       "      <td>0.134571</td>\n",
       "      <td>0.206786</td>\n",
       "      <td>10.000000</td>\n",
       "      <td>0.609347</td>\n",
       "      <td>0.261204</td>\n",
       "      <td>32.000000</td>\n",
       "      <td>3.000000</td>\n",
       "      <td>2.000000</td>\n",
       "      <td>0.224840</td>\n",
       "      <td>4.000000</td>\n",
       "      <td>1.000000</td>\n",
       "      <td>1.000000</td>\n",
       "      <td>0.000000</td>\n",
       "      <td>23.000000</td>\n",
       "      <td>5.000000</td>\n",
       "      <td>1.000000</td>\n",
       "      <td>3.000000</td>\n",
       "      <td>0.130090</td>\n",
       "      <td>20302.000000</td>\n",
       "    </tr>\n",
       "    <tr>\n",
       "      <th>4</th>\n",
       "      <td>5110005</td>\n",
       "      <td>37.000000</td>\n",
       "      <td>0.062996</td>\n",
       "      <td>0.764789</td>\n",
       "      <td>27.000000</td>\n",
       "      <td>0.609347</td>\n",
       "      <td>0.261204</td>\n",
       "      <td>49.000000</td>\n",
       "      <td>3.000000</td>\n",
       "      <td>4.000000</td>\n",
       "      <td>0.224840</td>\n",
       "      <td>4.000000</td>\n",
       "      <td>1.000000</td>\n",
       "      <td>8.000000</td>\n",
       "      <td>0.000000</td>\n",
       "      <td>21.000000</td>\n",
       "      <td>12.000000</td>\n",
       "      <td>1.000000</td>\n",
       "      <td>9.000000</td>\n",
       "      <td>0.130090</td>\n",
       "      <td>21674.000000</td>\n",
       "    </tr>\n",
       "  </tbody>\n",
       "</table>\n",
       "</div>"
      ],
      "text/plain": [
       "   EmployeeID       Age  TravelProfile  Department  HomeToWork  \\\n",
       "0     5110001 35.000000       0.802433    0.764789    5.000000   \n",
       "1     5110002 32.000000       0.134571    0.206786    5.000000   \n",
       "2     5110003 31.000000       0.802433    0.764789    5.000000   \n",
       "3     5110004 34.000000       0.134571    0.206786   10.000000   \n",
       "4     5110005 37.000000       0.062996    0.764789   27.000000   \n",
       "\n",
       "   EducationField   Gender  HourlnWeek  Involvement  WorkLifeBalance  \\\n",
       "0        0.199744 0.738796   69.000000     1.000000         1.000000   \n",
       "1        0.609347 0.261204   62.000000     4.000000         3.000000   \n",
       "2        0.609347 0.261204   45.000000     5.000000         3.000000   \n",
       "3        0.609347 0.261204   32.000000     3.000000         2.000000   \n",
       "4        0.609347 0.261204   49.000000     3.000000         4.000000   \n",
       "\n",
       "   Designation  JobSatisfaction    ESOPs  NumCompaniesWorked  OverTime  \\\n",
       "0     0.606914         1.000000 1.000000            1.000000  1.000000   \n",
       "1     0.606914         2.000000 0.000000            8.000000  0.000000   \n",
       "2     0.224840         2.000000 1.000000            3.000000  0.000000   \n",
       "3     0.224840         4.000000 1.000000            1.000000  0.000000   \n",
       "4     0.224840         4.000000 1.000000            8.000000  0.000000   \n",
       "\n",
       "   SalaryHikelastYear  WorkExperience  LastPromotion  CurrentProfile  \\\n",
       "0           20.000000        7.000000       2.000000        4.385295   \n",
       "1           20.000000        4.000000       1.000000        4.385295   \n",
       "2           26.000000       12.000000       1.000000        3.000000   \n",
       "3           23.000000        5.000000       1.000000        3.000000   \n",
       "4           21.000000       12.000000       1.000000        9.000000   \n",
       "\n",
       "   MaritalStatus  MonthlyIncome  \n",
       "0       0.305762   18932.000000  \n",
       "1       0.564149   18785.000000  \n",
       "2       0.564149   22091.000000  \n",
       "3       0.130090   20302.000000  \n",
       "4       0.130090   21674.000000  "
      ]
     },
     "execution_count": 22,
     "metadata": {},
     "output_type": "execute_result"
    }
   ],
   "source": [
    "#Defining the Train dataset\n",
    "X = df.drop('Attrition',axis=1) \n",
    "\n",
    "# display first five observations\n",
    "X.head()"
   ]
  },
  {
   "cell_type": "code",
   "execution_count": 23,
   "id": "b6a994d0",
   "metadata": {
    "tags": []
   },
   "outputs": [
    {
     "data": {
      "text/html": [
       "<div>\n",
       "<style scoped>\n",
       "    .dataframe tbody tr th:only-of-type {\n",
       "        vertical-align: middle;\n",
       "    }\n",
       "\n",
       "    .dataframe tbody tr th {\n",
       "        vertical-align: top;\n",
       "    }\n",
       "\n",
       "    .dataframe thead th {\n",
       "        text-align: right;\n",
       "    }\n",
       "</style>\n",
       "<table border=\"1\" class=\"dataframe\">\n",
       "  <thead>\n",
       "    <tr style=\"text-align: right;\">\n",
       "      <th></th>\n",
       "      <th>EmployeeID</th>\n",
       "      <th>Age</th>\n",
       "      <th>TravelProfile</th>\n",
       "      <th>Department</th>\n",
       "      <th>HomeToWork</th>\n",
       "      <th>EducationField</th>\n",
       "      <th>Gender</th>\n",
       "      <th>HourlnWeek</th>\n",
       "      <th>Involvement</th>\n",
       "      <th>WorkLifeBalance</th>\n",
       "      <th>Designation</th>\n",
       "      <th>JobSatisfaction</th>\n",
       "      <th>ESOPs</th>\n",
       "      <th>NumCompaniesWorked</th>\n",
       "      <th>OverTime</th>\n",
       "      <th>SalaryHikelastYear</th>\n",
       "      <th>WorkExperience</th>\n",
       "      <th>LastPromotion</th>\n",
       "      <th>CurrentProfile</th>\n",
       "      <th>MaritalStatus</th>\n",
       "      <th>MonthlyIncome</th>\n",
       "    </tr>\n",
       "  </thead>\n",
       "  <tbody>\n",
       "    <tr>\n",
       "      <th>0</th>\n",
       "      <td>6110001</td>\n",
       "      <td>18.000000</td>\n",
       "      <td>No</td>\n",
       "      <td>NaN</td>\n",
       "      <td>9.000000</td>\n",
       "      <td>CA</td>\n",
       "      <td>Male</td>\n",
       "      <td>80.000000</td>\n",
       "      <td>3</td>\n",
       "      <td>2</td>\n",
       "      <td>Executive</td>\n",
       "      <td>3</td>\n",
       "      <td>1</td>\n",
       "      <td>1</td>\n",
       "      <td>0</td>\n",
       "      <td>17.000000</td>\n",
       "      <td>0.000000</td>\n",
       "      <td>0.000000</td>\n",
       "      <td>0.000000</td>\n",
       "      <td>Single</td>\n",
       "      <td>16904.000000</td>\n",
       "    </tr>\n",
       "    <tr>\n",
       "      <th>1</th>\n",
       "      <td>6110002</td>\n",
       "      <td>20.000000</td>\n",
       "      <td>Rarely</td>\n",
       "      <td>Analytics</td>\n",
       "      <td>28.000000</td>\n",
       "      <td>Statistics</td>\n",
       "      <td>Female</td>\n",
       "      <td>59.000000</td>\n",
       "      <td>1</td>\n",
       "      <td>3</td>\n",
       "      <td>Executive</td>\n",
       "      <td>1</td>\n",
       "      <td>1</td>\n",
       "      <td>2</td>\n",
       "      <td>1</td>\n",
       "      <td>18.000000</td>\n",
       "      <td>2.000000</td>\n",
       "      <td>1.000000</td>\n",
       "      <td>NaN</td>\n",
       "      <td>Single</td>\n",
       "      <td>18994.000000</td>\n",
       "    </tr>\n",
       "    <tr>\n",
       "      <th>2</th>\n",
       "      <td>6110003</td>\n",
       "      <td>50.000000</td>\n",
       "      <td>Rarely</td>\n",
       "      <td>Analytics</td>\n",
       "      <td>19.000000</td>\n",
       "      <td>CA</td>\n",
       "      <td>Female</td>\n",
       "      <td>76.000000</td>\n",
       "      <td>3</td>\n",
       "      <td>3</td>\n",
       "      <td>Executive</td>\n",
       "      <td>5</td>\n",
       "      <td>0</td>\n",
       "      <td>5</td>\n",
       "      <td>1</td>\n",
       "      <td>22.000000</td>\n",
       "      <td>18.000000</td>\n",
       "      <td>3.000000</td>\n",
       "      <td>3.000000</td>\n",
       "      <td>M</td>\n",
       "      <td>18587.000000</td>\n",
       "    </tr>\n",
       "    <tr>\n",
       "      <th>3</th>\n",
       "      <td>6110004</td>\n",
       "      <td>32.000000</td>\n",
       "      <td>Rarely</td>\n",
       "      <td>Sales</td>\n",
       "      <td>23.000000</td>\n",
       "      <td>Statistics</td>\n",
       "      <td>Female</td>\n",
       "      <td>73.000000</td>\n",
       "      <td>5</td>\n",
       "      <td>2</td>\n",
       "      <td>Manager</td>\n",
       "      <td>3</td>\n",
       "      <td>0</td>\n",
       "      <td>4</td>\n",
       "      <td>1</td>\n",
       "      <td>17.000000</td>\n",
       "      <td>5.000000</td>\n",
       "      <td>3.000000</td>\n",
       "      <td>3.000000</td>\n",
       "      <td>Married</td>\n",
       "      <td>20559.000000</td>\n",
       "    </tr>\n",
       "    <tr>\n",
       "      <th>4</th>\n",
       "      <td>6110005</td>\n",
       "      <td>39.000000</td>\n",
       "      <td>Rarely</td>\n",
       "      <td>Analytics</td>\n",
       "      <td>7.000000</td>\n",
       "      <td>CA</td>\n",
       "      <td>Male</td>\n",
       "      <td>42.000000</td>\n",
       "      <td>4</td>\n",
       "      <td>1</td>\n",
       "      <td>Senior Manager</td>\n",
       "      <td>5</td>\n",
       "      <td>1</td>\n",
       "      <td>4</td>\n",
       "      <td>0</td>\n",
       "      <td>20.000000</td>\n",
       "      <td>9.000000</td>\n",
       "      <td>1.000000</td>\n",
       "      <td>7.000000</td>\n",
       "      <td>Married</td>\n",
       "      <td>24991.000000</td>\n",
       "    </tr>\n",
       "  </tbody>\n",
       "</table>\n",
       "</div>"
      ],
      "text/plain": [
       "   EmployeeID       Age TravelProfile Department  HomeToWork EducationField  \\\n",
       "0     6110001 18.000000            No        NaN    9.000000             CA   \n",
       "1     6110002 20.000000        Rarely  Analytics   28.000000     Statistics   \n",
       "2     6110003 50.000000        Rarely  Analytics   19.000000             CA   \n",
       "3     6110004 32.000000        Rarely      Sales   23.000000     Statistics   \n",
       "4     6110005 39.000000        Rarely  Analytics    7.000000             CA   \n",
       "\n",
       "   Gender  HourlnWeek  Involvement  WorkLifeBalance     Designation  \\\n",
       "0    Male   80.000000            3                2       Executive   \n",
       "1  Female   59.000000            1                3       Executive   \n",
       "2  Female   76.000000            3                3       Executive   \n",
       "3  Female   73.000000            5                2         Manager   \n",
       "4    Male   42.000000            4                1  Senior Manager   \n",
       "\n",
       "   JobSatisfaction  ESOPs  NumCompaniesWorked  OverTime  SalaryHikelastYear  \\\n",
       "0                3      1                   1         0           17.000000   \n",
       "1                1      1                   2         1           18.000000   \n",
       "2                5      0                   5         1           22.000000   \n",
       "3                3      0                   4         1           17.000000   \n",
       "4                5      1                   4         0           20.000000   \n",
       "\n",
       "   WorkExperience  LastPromotion  CurrentProfile MaritalStatus  MonthlyIncome  \n",
       "0        0.000000       0.000000        0.000000        Single   16904.000000  \n",
       "1        2.000000       1.000000             NaN        Single   18994.000000  \n",
       "2       18.000000       3.000000        3.000000             M   18587.000000  \n",
       "3        5.000000       3.000000        3.000000       Married   20559.000000  \n",
       "4        9.000000       1.000000        7.000000       Married   24991.000000  "
      ]
     },
     "execution_count": 23,
     "metadata": {},
     "output_type": "execute_result"
    }
   ],
   "source": [
    "df1 = pd.read_csv('Test_Dataset_(1)_(1).csv')\n",
    "\n",
    "# display first five observations using head()\n",
    "df1.head()"
   ]
  },
  {
   "cell_type": "code",
   "execution_count": 24,
   "id": "1c4be7c7",
   "metadata": {
    "tags": []
   },
   "outputs": [
    {
     "data": {
      "text/plain": [
       "(2630, 21)"
      ]
     },
     "execution_count": 24,
     "metadata": {},
     "output_type": "execute_result"
    }
   ],
   "source": [
    "df1.shape"
   ]
  },
  {
   "cell_type": "code",
   "execution_count": 25,
   "id": "cf1ad477",
   "metadata": {
    "tags": []
   },
   "outputs": [
    {
     "data": {
      "text/plain": [
       "EmployeeID              int64\n",
       "Age                   float64\n",
       "TravelProfile          object\n",
       "Department             object\n",
       "HomeToWork            float64\n",
       "EducationField         object\n",
       "Gender                 object\n",
       "HourlnWeek            float64\n",
       "Involvement             int64\n",
       "WorkLifeBalance         int64\n",
       "Designation            object\n",
       "JobSatisfaction         int64\n",
       "ESOPs                   int64\n",
       "NumCompaniesWorked      int64\n",
       "OverTime                int64\n",
       "SalaryHikelastYear    float64\n",
       "WorkExperience        float64\n",
       "LastPromotion         float64\n",
       "CurrentProfile        float64\n",
       "MaritalStatus          object\n",
       "MonthlyIncome         float64\n",
       "dtype: object"
      ]
     },
     "execution_count": 25,
     "metadata": {},
     "output_type": "execute_result"
    }
   ],
   "source": [
    "df1.dtypes"
   ]
  },
  {
   "cell_type": "code",
   "execution_count": 26,
   "id": "28a0fb9a",
   "metadata": {
    "tags": []
   },
   "outputs": [
    {
     "data": {
      "text/html": [
       "<div>\n",
       "<style scoped>\n",
       "    .dataframe tbody tr th:only-of-type {\n",
       "        vertical-align: middle;\n",
       "    }\n",
       "\n",
       "    .dataframe tbody tr th {\n",
       "        vertical-align: top;\n",
       "    }\n",
       "\n",
       "    .dataframe thead th {\n",
       "        text-align: right;\n",
       "    }\n",
       "</style>\n",
       "<table border=\"1\" class=\"dataframe\">\n",
       "  <thead>\n",
       "    <tr style=\"text-align: right;\">\n",
       "      <th></th>\n",
       "      <th>Total</th>\n",
       "      <th>Percentage of Missing Values</th>\n",
       "    </tr>\n",
       "  </thead>\n",
       "  <tbody>\n",
       "    <tr>\n",
       "      <th>Age</th>\n",
       "      <td>142</td>\n",
       "      <td>5.399240</td>\n",
       "    </tr>\n",
       "    <tr>\n",
       "      <th>HourlnWeek</th>\n",
       "      <td>136</td>\n",
       "      <td>5.171103</td>\n",
       "    </tr>\n",
       "    <tr>\n",
       "      <th>CurrentProfile</th>\n",
       "      <td>134</td>\n",
       "      <td>5.095057</td>\n",
       "    </tr>\n",
       "    <tr>\n",
       "      <th>HomeToWork</th>\n",
       "      <td>126</td>\n",
       "      <td>4.790875</td>\n",
       "    </tr>\n",
       "    <tr>\n",
       "      <th>WorkExperience</th>\n",
       "      <td>122</td>\n",
       "      <td>4.638783</td>\n",
       "    </tr>\n",
       "    <tr>\n",
       "      <th>SalaryHikelastYear</th>\n",
       "      <td>94</td>\n",
       "      <td>3.574144</td>\n",
       "    </tr>\n",
       "    <tr>\n",
       "      <th>Department</th>\n",
       "      <td>58</td>\n",
       "      <td>2.205323</td>\n",
       "    </tr>\n",
       "    <tr>\n",
       "      <th>LastPromotion</th>\n",
       "      <td>57</td>\n",
       "      <td>2.167300</td>\n",
       "    </tr>\n",
       "    <tr>\n",
       "      <th>MonthlyIncome</th>\n",
       "      <td>33</td>\n",
       "      <td>1.254753</td>\n",
       "    </tr>\n",
       "    <tr>\n",
       "      <th>Designation</th>\n",
       "      <td>30</td>\n",
       "      <td>1.140684</td>\n",
       "    </tr>\n",
       "    <tr>\n",
       "      <th>Gender</th>\n",
       "      <td>30</td>\n",
       "      <td>1.140684</td>\n",
       "    </tr>\n",
       "    <tr>\n",
       "      <th>WorkLifeBalance</th>\n",
       "      <td>0</td>\n",
       "      <td>0.000000</td>\n",
       "    </tr>\n",
       "    <tr>\n",
       "      <th>JobSatisfaction</th>\n",
       "      <td>0</td>\n",
       "      <td>0.000000</td>\n",
       "    </tr>\n",
       "    <tr>\n",
       "      <th>ESOPs</th>\n",
       "      <td>0</td>\n",
       "      <td>0.000000</td>\n",
       "    </tr>\n",
       "    <tr>\n",
       "      <th>NumCompaniesWorked</th>\n",
       "      <td>0</td>\n",
       "      <td>0.000000</td>\n",
       "    </tr>\n",
       "    <tr>\n",
       "      <th>OverTime</th>\n",
       "      <td>0</td>\n",
       "      <td>0.000000</td>\n",
       "    </tr>\n",
       "    <tr>\n",
       "      <th>Involvement</th>\n",
       "      <td>0</td>\n",
       "      <td>0.000000</td>\n",
       "    </tr>\n",
       "    <tr>\n",
       "      <th>EducationField</th>\n",
       "      <td>0</td>\n",
       "      <td>0.000000</td>\n",
       "    </tr>\n",
       "    <tr>\n",
       "      <th>TravelProfile</th>\n",
       "      <td>0</td>\n",
       "      <td>0.000000</td>\n",
       "    </tr>\n",
       "    <tr>\n",
       "      <th>MaritalStatus</th>\n",
       "      <td>0</td>\n",
       "      <td>0.000000</td>\n",
       "    </tr>\n",
       "    <tr>\n",
       "      <th>EmployeeID</th>\n",
       "      <td>0</td>\n",
       "      <td>0.000000</td>\n",
       "    </tr>\n",
       "  </tbody>\n",
       "</table>\n",
       "</div>"
      ],
      "text/plain": [
       "                    Total  Percentage of Missing Values\n",
       "Age                   142                      5.399240\n",
       "HourlnWeek            136                      5.171103\n",
       "CurrentProfile        134                      5.095057\n",
       "HomeToWork            126                      4.790875\n",
       "WorkExperience        122                      4.638783\n",
       "SalaryHikelastYear     94                      3.574144\n",
       "Department             58                      2.205323\n",
       "LastPromotion          57                      2.167300\n",
       "MonthlyIncome          33                      1.254753\n",
       "Designation            30                      1.140684\n",
       "Gender                 30                      1.140684\n",
       "WorkLifeBalance         0                      0.000000\n",
       "JobSatisfaction         0                      0.000000\n",
       "ESOPs                   0                      0.000000\n",
       "NumCompaniesWorked      0                      0.000000\n",
       "OverTime                0                      0.000000\n",
       "Involvement             0                      0.000000\n",
       "EducationField          0                      0.000000\n",
       "TravelProfile           0                      0.000000\n",
       "MaritalStatus           0                      0.000000\n",
       "EmployeeID              0                      0.000000"
      ]
     },
     "execution_count": 26,
     "metadata": {},
     "output_type": "execute_result"
    }
   ],
   "source": [
    "Total = df1.isnull().sum().sort_values(ascending=False)          \n",
    "\n",
    "Percent = (df1.isnull().sum()*100/df1.isnull().count()).sort_values(ascending=False)   \n",
    "\n",
    "missing_data = pd.concat([Total, Percent], axis = 1, keys = ['Total', 'Percentage of Missing Values'])    \n",
    "missing_data"
   ]
  },
  {
   "cell_type": "code",
   "execution_count": 27,
   "id": "9a6e846c",
   "metadata": {
    "tags": []
   },
   "outputs": [],
   "source": [
    "df1_num = df1.select_dtypes(include = [np.number])\n",
    "df1[df1_num.columns]= df1_num.fillna(df1_num.mean())"
   ]
  },
  {
   "cell_type": "code",
   "execution_count": 28,
   "id": "80f40873",
   "metadata": {
    "tags": []
   },
   "outputs": [],
   "source": [
    "for column in df1.select_dtypes(include='object'):\n",
    "    df1[column].fillna(df1[column].mode()[0], inplace=True)"
   ]
  },
  {
   "cell_type": "code",
   "execution_count": 29,
   "id": "3cb02a85",
   "metadata": {
    "tags": []
   },
   "outputs": [
    {
     "data": {
      "text/html": [
       "<div>\n",
       "<style scoped>\n",
       "    .dataframe tbody tr th:only-of-type {\n",
       "        vertical-align: middle;\n",
       "    }\n",
       "\n",
       "    .dataframe tbody tr th {\n",
       "        vertical-align: top;\n",
       "    }\n",
       "\n",
       "    .dataframe thead th {\n",
       "        text-align: right;\n",
       "    }\n",
       "</style>\n",
       "<table border=\"1\" class=\"dataframe\">\n",
       "  <thead>\n",
       "    <tr style=\"text-align: right;\">\n",
       "      <th></th>\n",
       "      <th>Total</th>\n",
       "      <th>Percentage of Missing Values</th>\n",
       "    </tr>\n",
       "  </thead>\n",
       "  <tbody>\n",
       "    <tr>\n",
       "      <th>EmployeeID</th>\n",
       "      <td>0</td>\n",
       "      <td>0.000000</td>\n",
       "    </tr>\n",
       "    <tr>\n",
       "      <th>JobSatisfaction</th>\n",
       "      <td>0</td>\n",
       "      <td>0.000000</td>\n",
       "    </tr>\n",
       "    <tr>\n",
       "      <th>MaritalStatus</th>\n",
       "      <td>0</td>\n",
       "      <td>0.000000</td>\n",
       "    </tr>\n",
       "    <tr>\n",
       "      <th>CurrentProfile</th>\n",
       "      <td>0</td>\n",
       "      <td>0.000000</td>\n",
       "    </tr>\n",
       "    <tr>\n",
       "      <th>LastPromotion</th>\n",
       "      <td>0</td>\n",
       "      <td>0.000000</td>\n",
       "    </tr>\n",
       "    <tr>\n",
       "      <th>WorkExperience</th>\n",
       "      <td>0</td>\n",
       "      <td>0.000000</td>\n",
       "    </tr>\n",
       "    <tr>\n",
       "      <th>SalaryHikelastYear</th>\n",
       "      <td>0</td>\n",
       "      <td>0.000000</td>\n",
       "    </tr>\n",
       "    <tr>\n",
       "      <th>OverTime</th>\n",
       "      <td>0</td>\n",
       "      <td>0.000000</td>\n",
       "    </tr>\n",
       "    <tr>\n",
       "      <th>NumCompaniesWorked</th>\n",
       "      <td>0</td>\n",
       "      <td>0.000000</td>\n",
       "    </tr>\n",
       "    <tr>\n",
       "      <th>ESOPs</th>\n",
       "      <td>0</td>\n",
       "      <td>0.000000</td>\n",
       "    </tr>\n",
       "    <tr>\n",
       "      <th>Designation</th>\n",
       "      <td>0</td>\n",
       "      <td>0.000000</td>\n",
       "    </tr>\n",
       "    <tr>\n",
       "      <th>Age</th>\n",
       "      <td>0</td>\n",
       "      <td>0.000000</td>\n",
       "    </tr>\n",
       "    <tr>\n",
       "      <th>WorkLifeBalance</th>\n",
       "      <td>0</td>\n",
       "      <td>0.000000</td>\n",
       "    </tr>\n",
       "    <tr>\n",
       "      <th>Involvement</th>\n",
       "      <td>0</td>\n",
       "      <td>0.000000</td>\n",
       "    </tr>\n",
       "    <tr>\n",
       "      <th>HourlnWeek</th>\n",
       "      <td>0</td>\n",
       "      <td>0.000000</td>\n",
       "    </tr>\n",
       "    <tr>\n",
       "      <th>Gender</th>\n",
       "      <td>0</td>\n",
       "      <td>0.000000</td>\n",
       "    </tr>\n",
       "    <tr>\n",
       "      <th>EducationField</th>\n",
       "      <td>0</td>\n",
       "      <td>0.000000</td>\n",
       "    </tr>\n",
       "    <tr>\n",
       "      <th>HomeToWork</th>\n",
       "      <td>0</td>\n",
       "      <td>0.000000</td>\n",
       "    </tr>\n",
       "    <tr>\n",
       "      <th>Department</th>\n",
       "      <td>0</td>\n",
       "      <td>0.000000</td>\n",
       "    </tr>\n",
       "    <tr>\n",
       "      <th>TravelProfile</th>\n",
       "      <td>0</td>\n",
       "      <td>0.000000</td>\n",
       "    </tr>\n",
       "    <tr>\n",
       "      <th>MonthlyIncome</th>\n",
       "      <td>0</td>\n",
       "      <td>0.000000</td>\n",
       "    </tr>\n",
       "  </tbody>\n",
       "</table>\n",
       "</div>"
      ],
      "text/plain": [
       "                    Total  Percentage of Missing Values\n",
       "EmployeeID              0                      0.000000\n",
       "JobSatisfaction         0                      0.000000\n",
       "MaritalStatus           0                      0.000000\n",
       "CurrentProfile          0                      0.000000\n",
       "LastPromotion           0                      0.000000\n",
       "WorkExperience          0                      0.000000\n",
       "SalaryHikelastYear      0                      0.000000\n",
       "OverTime                0                      0.000000\n",
       "NumCompaniesWorked      0                      0.000000\n",
       "ESOPs                   0                      0.000000\n",
       "Designation             0                      0.000000\n",
       "Age                     0                      0.000000\n",
       "WorkLifeBalance         0                      0.000000\n",
       "Involvement             0                      0.000000\n",
       "HourlnWeek              0                      0.000000\n",
       "Gender                  0                      0.000000\n",
       "EducationField          0                      0.000000\n",
       "HomeToWork              0                      0.000000\n",
       "Department              0                      0.000000\n",
       "TravelProfile           0                      0.000000\n",
       "MonthlyIncome           0                      0.000000"
      ]
     },
     "execution_count": 29,
     "metadata": {},
     "output_type": "execute_result"
    }
   ],
   "source": [
    "Total = df1.isnull().sum().sort_values(ascending=False)          \n",
    "\n",
    "Percent = (df1.isnull().sum()*100/df1.isnull().count()).sort_values(ascending=False)   \n",
    "\n",
    "missing_data = pd.concat([Total, Percent], axis = 1, keys = ['Total', 'Percentage of Missing Values'])    \n",
    "missing_data"
   ]
  },
  {
   "cell_type": "code",
   "execution_count": 30,
   "id": "26b221b6",
   "metadata": {
    "tags": []
   },
   "outputs": [
    {
     "data": {
      "text/plain": [
       "array(['Male', 'Female', 'F'], dtype=object)"
      ]
     },
     "execution_count": 30,
     "metadata": {},
     "output_type": "execute_result"
    }
   ],
   "source": [
    "df1['Gender'].unique()"
   ]
  },
  {
   "cell_type": "code",
   "execution_count": 31,
   "id": "d2e48944",
   "metadata": {
    "tags": []
   },
   "outputs": [
    {
     "data": {
      "text/plain": [
       "Index(['EmployeeID', 'Age', 'HomeToWork', 'HourlnWeek', 'Involvement',\n",
       "       'WorkLifeBalance', 'JobSatisfaction', 'ESOPs', 'NumCompaniesWorked',\n",
       "       'OverTime', 'SalaryHikelastYear', 'WorkExperience', 'LastPromotion',\n",
       "       'CurrentProfile', 'MonthlyIncome'],\n",
       "      dtype='object')"
      ]
     },
     "execution_count": 31,
     "metadata": {},
     "output_type": "execute_result"
    }
   ],
   "source": [
    "df1_num = df1.select_dtypes(include = [np.number])\n",
    "\n",
    "# display numerical features\n",
    "df1_num.columns"
   ]
  },
  {
   "cell_type": "code",
   "execution_count": 32,
   "id": "27185469",
   "metadata": {
    "tags": []
   },
   "outputs": [
    {
     "data": {
      "text/plain": [
       "Index(['TravelProfile', 'Department', 'EducationField', 'Gender',\n",
       "       'Designation', 'MaritalStatus'],\n",
       "      dtype='object')"
      ]
     },
     "execution_count": 32,
     "metadata": {},
     "output_type": "execute_result"
    }
   ],
   "source": [
    "df1_cat = df1.select_dtypes(include = [object])\n",
    "\n",
    "# display categorical features\n",
    "df1_cat.columns"
   ]
  },
  {
   "cell_type": "code",
   "execution_count": 33,
   "id": "297c56ff-aca6-4eef-b78f-904f7c577dc6",
   "metadata": {
    "tags": []
   },
   "outputs": [],
   "source": [
    "df1['Gender'].replace({'F':'Female'},inplace=True)\n",
    "df1['MaritalStatus'].replace({'M':'Married'},inplace=True)"
   ]
  },
  {
   "cell_type": "code",
   "execution_count": 34,
   "id": "4ac02c98-7943-4557-855c-28b2f0ccea35",
   "metadata": {
    "tags": []
   },
   "outputs": [],
   "source": [
    "for column in df1.select_dtypes(include=object).columns:\n",
    "    mapping = df1[column].value_counts(normalize=True)\n",
    "    df1[column].replace(mapping.to_dict(),inplace=True)"
   ]
  },
  {
   "cell_type": "code",
   "execution_count": 35,
   "id": "81dd03d5",
   "metadata": {
    "tags": []
   },
   "outputs": [
    {
     "data": {
      "text/html": [
       "<div>\n",
       "<style scoped>\n",
       "    .dataframe tbody tr th:only-of-type {\n",
       "        vertical-align: middle;\n",
       "    }\n",
       "\n",
       "    .dataframe tbody tr th {\n",
       "        vertical-align: top;\n",
       "    }\n",
       "\n",
       "    .dataframe thead th {\n",
       "        text-align: right;\n",
       "    }\n",
       "</style>\n",
       "<table border=\"1\" class=\"dataframe\">\n",
       "  <thead>\n",
       "    <tr style=\"text-align: right;\">\n",
       "      <th></th>\n",
       "      <th>EmployeeID</th>\n",
       "      <th>Age</th>\n",
       "      <th>TravelProfile</th>\n",
       "      <th>Department</th>\n",
       "      <th>HomeToWork</th>\n",
       "      <th>EducationField</th>\n",
       "      <th>Gender</th>\n",
       "      <th>HourlnWeek</th>\n",
       "      <th>Involvement</th>\n",
       "      <th>WorkLifeBalance</th>\n",
       "      <th>Designation</th>\n",
       "      <th>JobSatisfaction</th>\n",
       "      <th>ESOPs</th>\n",
       "      <th>NumCompaniesWorked</th>\n",
       "      <th>OverTime</th>\n",
       "      <th>SalaryHikelastYear</th>\n",
       "      <th>WorkExperience</th>\n",
       "      <th>LastPromotion</th>\n",
       "      <th>CurrentProfile</th>\n",
       "      <th>MaritalStatus</th>\n",
       "      <th>MonthlyIncome</th>\n",
       "    </tr>\n",
       "  </thead>\n",
       "  <tbody>\n",
       "    <tr>\n",
       "      <th>0</th>\n",
       "      <td>6110001</td>\n",
       "      <td>18.000000</td>\n",
       "      <td>0.094677</td>\n",
       "      <td>0.658935</td>\n",
       "      <td>9.000000</td>\n",
       "      <td>0.325856</td>\n",
       "      <td>0.609886</td>\n",
       "      <td>80.000000</td>\n",
       "      <td>3</td>\n",
       "      <td>2</td>\n",
       "      <td>0.388973</td>\n",
       "      <td>3</td>\n",
       "      <td>1</td>\n",
       "      <td>1</td>\n",
       "      <td>0</td>\n",
       "      <td>17.000000</td>\n",
       "      <td>0.000000</td>\n",
       "      <td>0.000000</td>\n",
       "      <td>0.000000</td>\n",
       "      <td>0.354753</td>\n",
       "      <td>16904.000000</td>\n",
       "    </tr>\n",
       "    <tr>\n",
       "      <th>1</th>\n",
       "      <td>6110002</td>\n",
       "      <td>20.000000</td>\n",
       "      <td>0.704183</td>\n",
       "      <td>0.658935</td>\n",
       "      <td>28.000000</td>\n",
       "      <td>0.395437</td>\n",
       "      <td>0.390114</td>\n",
       "      <td>59.000000</td>\n",
       "      <td>1</td>\n",
       "      <td>3</td>\n",
       "      <td>0.388973</td>\n",
       "      <td>1</td>\n",
       "      <td>1</td>\n",
       "      <td>2</td>\n",
       "      <td>1</td>\n",
       "      <td>18.000000</td>\n",
       "      <td>2.000000</td>\n",
       "      <td>1.000000</td>\n",
       "      <td>4.506811</td>\n",
       "      <td>0.354753</td>\n",
       "      <td>18994.000000</td>\n",
       "    </tr>\n",
       "    <tr>\n",
       "      <th>2</th>\n",
       "      <td>6110003</td>\n",
       "      <td>50.000000</td>\n",
       "      <td>0.704183</td>\n",
       "      <td>0.658935</td>\n",
       "      <td>19.000000</td>\n",
       "      <td>0.325856</td>\n",
       "      <td>0.390114</td>\n",
       "      <td>76.000000</td>\n",
       "      <td>3</td>\n",
       "      <td>3</td>\n",
       "      <td>0.388973</td>\n",
       "      <td>5</td>\n",
       "      <td>0</td>\n",
       "      <td>5</td>\n",
       "      <td>1</td>\n",
       "      <td>22.000000</td>\n",
       "      <td>18.000000</td>\n",
       "      <td>3.000000</td>\n",
       "      <td>3.000000</td>\n",
       "      <td>0.463878</td>\n",
       "      <td>18587.000000</td>\n",
       "    </tr>\n",
       "    <tr>\n",
       "      <th>3</th>\n",
       "      <td>6110004</td>\n",
       "      <td>32.000000</td>\n",
       "      <td>0.704183</td>\n",
       "      <td>0.301141</td>\n",
       "      <td>23.000000</td>\n",
       "      <td>0.395437</td>\n",
       "      <td>0.390114</td>\n",
       "      <td>73.000000</td>\n",
       "      <td>5</td>\n",
       "      <td>2</td>\n",
       "      <td>0.349810</td>\n",
       "      <td>3</td>\n",
       "      <td>0</td>\n",
       "      <td>4</td>\n",
       "      <td>1</td>\n",
       "      <td>17.000000</td>\n",
       "      <td>5.000000</td>\n",
       "      <td>3.000000</td>\n",
       "      <td>3.000000</td>\n",
       "      <td>0.463878</td>\n",
       "      <td>20559.000000</td>\n",
       "    </tr>\n",
       "    <tr>\n",
       "      <th>4</th>\n",
       "      <td>6110005</td>\n",
       "      <td>39.000000</td>\n",
       "      <td>0.704183</td>\n",
       "      <td>0.658935</td>\n",
       "      <td>7.000000</td>\n",
       "      <td>0.325856</td>\n",
       "      <td>0.609886</td>\n",
       "      <td>42.000000</td>\n",
       "      <td>4</td>\n",
       "      <td>1</td>\n",
       "      <td>0.148669</td>\n",
       "      <td>5</td>\n",
       "      <td>1</td>\n",
       "      <td>4</td>\n",
       "      <td>0</td>\n",
       "      <td>20.000000</td>\n",
       "      <td>9.000000</td>\n",
       "      <td>1.000000</td>\n",
       "      <td>7.000000</td>\n",
       "      <td>0.463878</td>\n",
       "      <td>24991.000000</td>\n",
       "    </tr>\n",
       "  </tbody>\n",
       "</table>\n",
       "</div>"
      ],
      "text/plain": [
       "   EmployeeID       Age  TravelProfile  Department  HomeToWork  \\\n",
       "0     6110001 18.000000       0.094677    0.658935    9.000000   \n",
       "1     6110002 20.000000       0.704183    0.658935   28.000000   \n",
       "2     6110003 50.000000       0.704183    0.658935   19.000000   \n",
       "3     6110004 32.000000       0.704183    0.301141   23.000000   \n",
       "4     6110005 39.000000       0.704183    0.658935    7.000000   \n",
       "\n",
       "   EducationField   Gender  HourlnWeek  Involvement  WorkLifeBalance  \\\n",
       "0        0.325856 0.609886   80.000000            3                2   \n",
       "1        0.395437 0.390114   59.000000            1                3   \n",
       "2        0.325856 0.390114   76.000000            3                3   \n",
       "3        0.395437 0.390114   73.000000            5                2   \n",
       "4        0.325856 0.609886   42.000000            4                1   \n",
       "\n",
       "   Designation  JobSatisfaction  ESOPs  NumCompaniesWorked  OverTime  \\\n",
       "0     0.388973                3      1                   1         0   \n",
       "1     0.388973                1      1                   2         1   \n",
       "2     0.388973                5      0                   5         1   \n",
       "3     0.349810                3      0                   4         1   \n",
       "4     0.148669                5      1                   4         0   \n",
       "\n",
       "   SalaryHikelastYear  WorkExperience  LastPromotion  CurrentProfile  \\\n",
       "0           17.000000        0.000000       0.000000        0.000000   \n",
       "1           18.000000        2.000000       1.000000        4.506811   \n",
       "2           22.000000       18.000000       3.000000        3.000000   \n",
       "3           17.000000        5.000000       3.000000        3.000000   \n",
       "4           20.000000        9.000000       1.000000        7.000000   \n",
       "\n",
       "   MaritalStatus  MonthlyIncome  \n",
       "0       0.354753   16904.000000  \n",
       "1       0.354753   18994.000000  \n",
       "2       0.463878   18587.000000  \n",
       "3       0.463878   20559.000000  \n",
       "4       0.463878   24991.000000  "
      ]
     },
     "execution_count": 35,
     "metadata": {},
     "output_type": "execute_result"
    }
   ],
   "source": [
    "X1 = df1\n",
    "\n",
    "# display first five observations\n",
    "X1.head()"
   ]
  },
  {
   "cell_type": "code",
   "execution_count": 36,
   "id": "89bccd89",
   "metadata": {
    "tags": []
   },
   "outputs": [
    {
     "data": {
      "text/plain": [
       "(2630, 21)"
      ]
     },
     "execution_count": 36,
     "metadata": {},
     "output_type": "execute_result"
    }
   ],
   "source": [
    "X1.shape"
   ]
  },
  {
   "cell_type": "code",
   "execution_count": 37,
   "id": "fd7165ee",
   "metadata": {
    "tags": []
   },
   "outputs": [
    {
     "name": "stdout",
     "output_type": "stream",
     "text": [
      "X_train (7810, 21)\n",
      "y_train (7810,)\n",
      "X_test (2630, 21)\n"
     ]
    }
   ],
   "source": [
    "# split data into train subset and test subset\n",
    "# set 'random_state' to generate the same dataset each time you run the code \n",
    "# 'test_size' returns the proportion of data to be included in the test set\n",
    "\n",
    "X_train = X\n",
    "y_train = df_target\n",
    "\n",
    "X_test = X1\n",
    "\n",
    "# check the dimensions of the train & test subset using 'shape'\n",
    "# print dimension of train set\n",
    "print('X_train', X_train.shape)\n",
    "print('y_train', y_train.shape)\n",
    "\n",
    "# print dimension of test set\n",
    "print('X_test', X_test.shape)"
   ]
  },
  {
   "cell_type": "code",
   "execution_count": 38,
   "id": "f1217924-ee1a-4e1a-8f44-0b5c09d419da",
   "metadata": {
    "tags": []
   },
   "outputs": [
    {
     "data": {
      "text/plain": [
       "Attrition\n",
       "0   0.814981\n",
       "1   0.185019\n",
       "Name: proportion, dtype: float64"
      ]
     },
     "execution_count": 38,
     "metadata": {},
     "output_type": "execute_result"
    }
   ],
   "source": [
    "df_target.value_counts(normalize=True)"
   ]
  },
  {
   "cell_type": "code",
   "execution_count": 39,
   "id": "9039397c-9899-4222-a47d-a96b3568628d",
   "metadata": {
    "tags": []
   },
   "outputs": [],
   "source": [
    "from imblearn.over_sampling import SMOTE\n",
    "smote = SMOTE(sampling_strategy='minority')\n",
    "X_train_resampled, y_train_resampled = smote.fit_resample(X_train,y_train)\n",
    "from sklearn.model_selection import KFold\n",
    "\n",
    "# Define the number of splits\n",
    "k = 10\n",
    "\n",
    "# Create a KFold object\n",
    "kf = KFold(n_splits=k)\n",
    "\n",
    "# Split the data\n",
    "for train_index, test_index in kf.split(X):\n",
    "    X_train = X.iloc[train_index]\n",
    "    Xtest1 = X.iloc[train_index]\n",
    "    # Now, 'train_data' is the training set and 'test_data' is the test set\n",
    "    \n",
    "for train_index, test_index in kf.split(df_target):\n",
    "    y_train = df_target.iloc[train_index]\n",
    "    ytest1 = df_target.iloc[train_index]\n"
   ]
  },
  {
   "cell_type": "code",
   "execution_count": 40,
   "id": "d5d86515",
   "metadata": {
    "tags": []
   },
   "outputs": [],
   "source": [
    "# instantiate the 'RandomForestClassifier'\n",
    "# pass the required number of trees in the random forest to the parameter, 'n_estimators'\n",
    "# pass the 'random_state' to obtain the same samples for each time you run the code\n",
    "from sklearn.ensemble import RandomForestRegressor\n",
    "rf_classification = RandomForestClassifier(n_estimators = 120,criterion=\"gini\",min_samples_split=4,max_depth=10, random_state = 42)\n",
    "\n",
    "# use fit() to fit the model on the train set\n",
    "rf_model = rf_classification.fit(X_train, y_train)"
   ]
  },
  {
   "cell_type": "code",
   "execution_count": 41,
   "id": "63250066",
   "metadata": {
    "tags": []
   },
   "outputs": [
    {
     "name": "stdout",
     "output_type": "stream",
     "text": [
      "Training Accuracy: 0.9866268316972542\n"
     ]
    }
   ],
   "source": [
    "y_train_pred = rf_model.predict(Xtest1)\n",
    "accuracy = accuracy_score(ytest1, y_train_pred)\n",
    "print(\"Training Accuracy:\", accuracy)\n",
    "\n",
    "# Predictions on Test Data\n",
    "y_test_pred = rf_model.predict(X_test)"
   ]
  },
  {
   "cell_type": "code",
   "execution_count": 40,
   "id": "6497f1ad",
   "metadata": {
    "tags": []
   },
   "outputs": [],
   "source": [
    "submission_df = pd.DataFrame({'EmployeeID': df1['EmployeeID'], 'Attrition': y_test_pred})\n",
    "submission_df.to_csv('Submissions1.csv', index=False)"
   ]
  },
  {
   "cell_type": "code",
   "execution_count": 42,
   "id": "a01cca30-8f1c-4d2a-a6cc-6824963a27a0",
   "metadata": {
    "tags": []
   },
   "outputs": [],
   "source": [
    "from sklearn.ensemble import RandomForestRegressor\n",
    "from sklearn.model_selection import RandomizedSearchCV\n",
    "# Define the hyperparameter ranges\n",
    "\n",
    "tuned_paramaters = [{'criterion': ['entropy', 'gini','log_loss'],\n",
    "                     'n_estimators': list(range(10,91,5)),\n",
    "                     'max_depth': list(range(0,11,2)),\n",
    "                     'max_features': ['sqrt', 'log2'],\n",
    "                     'min_samples_split': [2, 5, 8, 11],\n",
    "                     'min_samples_leaf': [1, 5, 9],\n",
    "                     'max_leaf_nodes': [2, 5, 8, 11]}]\n",
    "# Create the random search object\n",
    "rf_random = RandomizedSearchCV(\n",
    "    estimator = rf_classification,\n",
    "    param_distributions = tuned_paramaters,\n",
    "    n_iter = 100, # The number of parameter settings to try\n",
    "    cv = 3, # The number of cross-validation folds to use\n",
    "    verbose = 2, # The level of verbosity for the output\n",
    "    random_state = 100, # The seed for the random number generator\n",
    "    n_jobs = -1 # The number of jobs to run in parallel\n",
    ")\n"
   ]
  },
  {
   "cell_type": "code",
   "execution_count": null,
   "id": "9131a594-fcfa-4a2f-b39b-7403c492fb36",
   "metadata": {
    "tags": []
   },
   "outputs": [],
   "source": [
    "# Fit the random search object to the training data\n",
    "rf_random.fit(X_train_resampled, y_train_resampled)\n",
    "# Print the best parameters and the best score\n",
    "print(rf_random.best_params_)\n",
    "print(rf_random.best_score_)\n"
   ]
  },
  {
   "cell_type": "code",
   "execution_count": null,
   "id": "30d170b5-36bf-4aa6-9577-eb418ab0de28",
   "metadata": {
    "tags": []
   },
   "outputs": [],
   "source": [
    "# Get the best model\n",
    "best_rf = rf_random.best_estimator_\n",
    "# Make predictions on the test data\n",
    "y_pred = best_rf.predict(X_test)\n",
    "# Evaluate the performance on the test data\n",
    "y_train_pred = best_rf.predict(X_train_resampled)\n",
    "accuracy = accuracy_score(y_train_resampled, y_train_pred)\n",
    "print(\"Training Accuracy:\", accuracy)"
   ]
  },
  {
   "cell_type": "code",
   "execution_count": 43,
   "id": "56ab7c5b-b64c-4799-8f63-e02ddd799016",
   "metadata": {
    "tags": []
   },
   "outputs": [
    {
     "name": "stdout",
     "output_type": "stream",
     "text": [
      "Training Accuracy: 0.998114689709348\n"
     ]
    }
   ],
   "source": [
    "from sklearn.ensemble import AdaBoostClassifier\n",
    "ada = AdaBoostClassifier(base_estimator=rf_model,n_estimators=400,learning_rate=0.1, random_state=100)\n",
    "\n",
    "# Fit the classifier\n",
    "ada.fit(X_train_resampled, y_train_resampled)\n",
    "\n",
    "# Make predictions\n",
    "y_pred = ada.predict(X_test)\n",
    "y_train_pred = ada.predict(X_train_resampled)\n",
    "accuracy = accuracy_score(y_train_resampled, y_train_pred)\n",
    "print(\"Training Accuracy:\", accuracy)"
   ]
  },
  {
   "cell_type": "code",
   "execution_count": 44,
   "id": "5892fbc2-4743-400c-8d45-ae245c50265d",
   "metadata": {
    "tags": []
   },
   "outputs": [
    {
     "name": "stdout",
     "output_type": "stream",
     "text": [
      "Training Accuracy: 0.9547525530243519\n"
     ]
    }
   ],
   "source": [
    "from sklearn.ensemble import GradientBoostingClassifier\n",
    "gb_clf = GradientBoostingClassifier(n_estimators=150, max_depth=3,learning_rate=0.1,criterion='squared_error', random_state=42)\n",
    "\n",
    "# Fit the classifier\n",
    "gb_clf.fit(X_train_resampled, y_train_resampled)\n",
    "# Make predictions\n",
    "y_pred = gb_clf.predict(X_test)\n",
    "y_train_pred = gb_clf.predict(X_train_resampled)\n",
    "accuracy = accuracy_score(y_train_resampled, y_train_pred)\n",
    "print(\"Training Accuracy:\", accuracy)"
   ]
  },
  {
   "cell_type": "code",
   "execution_count": null,
   "id": "eeff14a1-0b61-4100-bb5f-074afd7eb7b8",
   "metadata": {
    "tags": []
   },
   "outputs": [],
   "source": [
    "submission_df = pd.DataFrame({'EmployeeID': df1['EmployeeID'], 'Attrition': y_pred})\n",
    "submission_df.to_csv('Submissions1.csv', index=False)"
   ]
  },
  {
   "cell_type": "code",
   "execution_count": null,
   "id": "efdebff1-3dc8-4346-a787-b320221cd564",
   "metadata": {
    "tags": []
   },
   "outputs": [],
   "source": [
    "import xgboost as xgb\n",
    "model = xgb.XGBClassifier(n_estimators = 1200, learning_rate=0.01, gamma=2)\n",
    "model.fit(X_train_resampled, y_train_resampled)\n",
    "\n",
    "# Make predictions\n",
    "y_pred = model.predict(X_test)\n",
    "y_train_pred = model.predict(X_train_resampled)\n",
    "accuracy = accuracy_score(y_train_resampled, y_train_pred)\n",
    "print(\"Training Accuracy:\", accuracy)"
   ]
  },
  {
   "cell_type": "code",
   "execution_count": null,
   "id": "10b035cf-132f-4785-986b-3f4d1c364bc1",
   "metadata": {},
   "outputs": [],
   "source": [
    "from sklearn.neighbors import KNeighborsClassifier\n",
    "\n",
    "# Create kNN classifier\n",
    "knn = KNeighborsClassifier(n_neighbors=100,weights='distance')\n",
    "\n",
    "# Fit the model\n",
    "knn.fit(X_train, y_train)\n",
    "\n",
    "# Make predictions\n",
    "y_pred = knn.predict(X_test)\n",
    "y_train_pred = knn.predict(X_train)\n",
    "accuracy = accuracy_score(y_train, y_train_pred)\n",
    "print(\"Training Accuracy:\", accuracy)"
   ]
  },
  {
   "cell_type": "code",
   "execution_count": null,
   "id": "01f99853-9b35-403f-9d02-203d6d953853",
   "metadata": {
    "tags": []
   },
   "outputs": [],
   "source": [
    "from sklearn.model_selection import GridSearchCV\n",
    "\n",
    "# Define the parameter values that should be searched\n",
    "param_grid = {'criterion': ['entropy', 'gini','log_loss'],\n",
    "              'n_estimators': list(range(25,45,5)),\n",
    "              'max_depth': list(range(0,11,2)),\n",
    "              'max_features': ['sqrt', 'log2'],\n",
    "              'min_samples_split': [2, 5, 8, 11],\n",
    "              'min_samples_leaf': [1, 5, 9],\n",
    "              'max_leaf_nodes': [2, 5, 8, 11]}\n",
    "\n",
    "# Create a GridSearchCV object\n",
    "grid = GridSearchCV(rf_model, param_grid, refit=True, verbose=3)\n",
    "\n",
    "# Fit the model with the grid search estimator. \n",
    "# This will take the SVC model and try each combination of parameters\n",
    "grid.fit(X_train, y_train)\n",
    "\n",
    "# You can inspect the best parameters found by GridSearchCV in the best_params_ attribute, and the best estimator in the best_estimator_ attribute\n",
    "print(grid.best_params_)\n",
    "print(grid.best_estimator_)"
   ]
  },
  {
   "cell_type": "code",
   "execution_count": null,
   "id": "99b46dbf-a3d8-4450-9265-41e47cfb5b0c",
   "metadata": {
    "tags": []
   },
   "outputs": [],
   "source": [
    "print(grid.best_estimator_)"
   ]
  }
 ],
 "metadata": {
  "kernelspec": {
   "display_name": "Python 3 (ipykernel)",
   "language": "python",
   "name": "python3"
  },
  "language_info": {
   "codemirror_mode": {
    "name": "ipython",
    "version": 3
   },
   "file_extension": ".py",
   "mimetype": "text/x-python",
   "name": "python",
   "nbconvert_exporter": "python",
   "pygments_lexer": "ipython3",
   "version": "3.11.5"
  }
 },
 "nbformat": 4,
 "nbformat_minor": 5
}
